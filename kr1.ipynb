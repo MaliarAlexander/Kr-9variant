{
 "cells": [
  {
   "cell_type": "code",
   "execution_count": 1,
   "id": "549a1ee2",
   "metadata": {},
   "outputs": [],
   "source": [
    "import pandas as pd\n",
    "import numpy as np\n",
    "import os\n",
    "import seaborn as sns\n",
    "import matplotlib.pyplot as plt\n",
    "from sklearn.impute import SimpleImputer\n",
    "from sklearn.model_selection import train_test_split\n",
    "from sklearn.metrics import mean_squared_error\n",
    "import statsmodels.api as sm\n",
    "from sklearn.ensemble import RandomForestRegressor\n",
    "from sklearn.preprocessing import PolynomialFeatures"
   ]
  },
  {
   "cell_type": "code",
   "execution_count": 2,
   "id": "1217087f",
   "metadata": {},
   "outputs": [],
   "source": [
    "def metrics(X_train, X_test, y_train, y_test, y_pred, model):\n",
    "    RMSE = [mean_squared_error(y_train, model.predict(X_train),squared=False), mean_squared_error(y_test, y_pred, squared=False)]\n",
    "    R2 = [model.score(X_train, y_train), model.score(X_test, y_test)]\n",
    "    results = {'RMSE': RMSE, 'R2':R2}\n",
    "    return pd.DataFrame(results, index=['Train', 'Test'])"
   ]
  },
  {
   "cell_type": "code",
   "execution_count": null,
   "id": "469851cf",
   "metadata": {},
   "outputs": [],
   "source": []
  },
  {
   "cell_type": "code",
   "execution_count": 3,
   "id": "4c37679f",
   "metadata": {},
   "outputs": [
    {
     "data": {
      "text/html": [
       "<div>\n",
       "<style scoped>\n",
       "    .dataframe tbody tr th:only-of-type {\n",
       "        vertical-align: middle;\n",
       "    }\n",
       "\n",
       "    .dataframe tbody tr th {\n",
       "        vertical-align: top;\n",
       "    }\n",
       "\n",
       "    .dataframe thead th {\n",
       "        text-align: right;\n",
       "    }\n",
       "</style>\n",
       "<table border=\"1\" class=\"dataframe\">\n",
       "  <thead>\n",
       "    <tr style=\"text-align: right;\">\n",
       "      <th></th>\n",
       "      <th>Людинопотік</th>\n",
       "      <th>Середній дохід населення</th>\n",
       "      <th>Школа</th>\n",
       "      <th>Продуктовий ринок</th>\n",
       "      <th>Речовий ринок</th>\n",
       "      <th>Транзитна зупинка міжміського ГТ</th>\n",
       "      <th>Зупинка ГТ з дому</th>\n",
       "    </tr>\n",
       "  </thead>\n",
       "  <tbody>\n",
       "    <tr>\n",
       "      <th>0</th>\n",
       "      <td>5211.0</td>\n",
       "      <td>15610.0</td>\n",
       "      <td>0</td>\n",
       "      <td>0</td>\n",
       "      <td>0</td>\n",
       "      <td>0</td>\n",
       "      <td>0</td>\n",
       "    </tr>\n",
       "    <tr>\n",
       "      <th>1</th>\n",
       "      <td>2424.0</td>\n",
       "      <td>12600.0</td>\n",
       "      <td>0</td>\n",
       "      <td>0</td>\n",
       "      <td>1</td>\n",
       "      <td>0</td>\n",
       "      <td>0</td>\n",
       "    </tr>\n",
       "    <tr>\n",
       "      <th>2</th>\n",
       "      <td>3868.0</td>\n",
       "      <td>12600.0</td>\n",
       "      <td>0</td>\n",
       "      <td>0</td>\n",
       "      <td>0</td>\n",
       "      <td>0</td>\n",
       "      <td>1</td>\n",
       "    </tr>\n",
       "    <tr>\n",
       "      <th>3</th>\n",
       "      <td>4546.0</td>\n",
       "      <td>13930.0</td>\n",
       "      <td>0</td>\n",
       "      <td>0</td>\n",
       "      <td>0</td>\n",
       "      <td>0</td>\n",
       "      <td>0</td>\n",
       "    </tr>\n",
       "    <tr>\n",
       "      <th>4</th>\n",
       "      <td>3244.0</td>\n",
       "      <td>16030.0</td>\n",
       "      <td>0</td>\n",
       "      <td>0</td>\n",
       "      <td>0</td>\n",
       "      <td>0</td>\n",
       "      <td>0</td>\n",
       "    </tr>\n",
       "  </tbody>\n",
       "</table>\n",
       "</div>"
      ],
      "text/plain": [
       "   Людинопотік  Середній дохід населення  Школа  Продуктовий ринок  \\\n",
       "0       5211.0                   15610.0      0                  0   \n",
       "1       2424.0                   12600.0      0                  0   \n",
       "2       3868.0                   12600.0      0                  0   \n",
       "3       4546.0                   13930.0      0                  0   \n",
       "4       3244.0                   16030.0      0                  0   \n",
       "\n",
       "   Речовий ринок  Транзитна зупинка міжміського ГТ  Зупинка ГТ з дому  \n",
       "0              0                                 0                  0  \n",
       "1              1                                 0                  0  \n",
       "2              0                                 0                  1  \n",
       "3              0                                 0                  0  \n",
       "4              0                                 0                  0  "
      ]
     },
     "execution_count": 3,
     "metadata": {},
     "output_type": "execute_result"
    }
   ],
   "source": [
    "df = pd.read_excel(\"9 вариант.xlsx\", engine='openpyxl')\n",
    "df.head()"
   ]
  },
  {
   "cell_type": "code",
   "execution_count": 4,
   "id": "a2e107db",
   "metadata": {},
   "outputs": [
    {
     "data": {
      "text/plain": [
       "(69, 7)"
      ]
     },
     "execution_count": 4,
     "metadata": {},
     "output_type": "execute_result"
    }
   ],
   "source": [
    "df.shape"
   ]
  },
  {
   "cell_type": "code",
   "execution_count": 5,
   "id": "f98c81bd",
   "metadata": {},
   "outputs": [
    {
     "data": {
      "text/plain": [
       "Людинопотік                         float64\n",
       "Середній дохід населення            float64\n",
       "Школа                                 int64\n",
       "Продуктовий ринок                     int64\n",
       "Речовий ринок                         int64\n",
       "Транзитна зупинка міжміського ГТ      int64\n",
       "Зупинка ГТ з дому                     int64\n",
       "dtype: object"
      ]
     },
     "execution_count": 5,
     "metadata": {},
     "output_type": "execute_result"
    }
   ],
   "source": [
    "df.dtypes"
   ]
  },
  {
   "cell_type": "code",
   "execution_count": 6,
   "id": "e068218e",
   "metadata": {},
   "outputs": [
    {
     "data": {
      "image/png": "[encoded data removed]",
      "text/plain": [
       "<Figure size 432x288 with 1 Axes>"
      ]
     },
     "metadata": {
      "needs_background": "light"
     },
     "output_type": "display_data"
    }
   ],
   "source": [
    "fig = plt.figure()\n",
    "ax = fig.add_axes([0, 0, 1, 0.5])\n",
    "missings = pd.DataFrame(df.isnull().sum())\n",
    "vars_with_missings = missings[missings > df.shape[0]*0.01].dropna().index.tolist()\n",
    "sns.heatmap(df[vars_with_missings].isnull(),cbar=False, yticklabels=False, cmap='BuPu', ax=ax)\n",
    "plt.show()"
   ]
  },
  {
   "cell_type": "code",
   "execution_count": 7,
   "id": "d1fba07e",
   "metadata": {},
   "outputs": [
    {
     "data": {
      "text/html": [
       "<div>\n",
       "<style scoped>\n",
       "    .dataframe tbody tr th:only-of-type {\n",
       "        vertical-align: middle;\n",
       "    }\n",
       "\n",
       "    .dataframe tbody tr th {\n",
       "        vertical-align: top;\n",
       "    }\n",
       "\n",
       "    .dataframe thead th {\n",
       "        text-align: right;\n",
       "    }\n",
       "</style>\n",
       "<table border=\"1\" class=\"dataframe\">\n",
       "  <thead>\n",
       "    <tr style=\"text-align: right;\">\n",
       "      <th></th>\n",
       "      <th>0</th>\n",
       "    </tr>\n",
       "  </thead>\n",
       "  <tbody>\n",
       "    <tr>\n",
       "      <th>Людинопотік</th>\n",
       "      <td>5</td>\n",
       "    </tr>\n",
       "    <tr>\n",
       "      <th>Середній дохід населення</th>\n",
       "      <td>5</td>\n",
       "    </tr>\n",
       "    <tr>\n",
       "      <th>Школа</th>\n",
       "      <td>0</td>\n",
       "    </tr>\n",
       "    <tr>\n",
       "      <th>Продуктовий ринок</th>\n",
       "      <td>0</td>\n",
       "    </tr>\n",
       "    <tr>\n",
       "      <th>Речовий ринок</th>\n",
       "      <td>0</td>\n",
       "    </tr>\n",
       "    <tr>\n",
       "      <th>Транзитна зупинка міжміського ГТ</th>\n",
       "      <td>0</td>\n",
       "    </tr>\n",
       "    <tr>\n",
       "      <th>Зупинка ГТ з дому</th>\n",
       "      <td>0</td>\n",
       "    </tr>\n",
       "  </tbody>\n",
       "</table>\n",
       "</div>"
      ],
      "text/plain": [
       "                                  0\n",
       "Людинопотік                       5\n",
       "Середній дохід населення          5\n",
       "Школа                             0\n",
       "Продуктовий ринок                 0\n",
       "Речовий ринок                     0\n",
       "Транзитна зупинка міжміського ГТ  0\n",
       "Зупинка ГТ з дому                 0"
      ]
     },
     "execution_count": 7,
     "metadata": {},
     "output_type": "execute_result"
    }
   ],
   "source": [
    "pd.DataFrame(df.isnull().sum())"
   ]
  },
  {
   "cell_type": "code",
   "execution_count": 8,
   "id": "12ef33a1",
   "metadata": {},
   "outputs": [],
   "source": [
    "#missing data is numeric, so let's recover it accordingly\n",
    "dfm = df\n",
    "imputer_mean = SimpleImputer(missing_values=np.nan, strategy='mean')\n",
    "dfm[['Людинопотік']] = imputer_mean.fit_transform(dfm[['Людинопотік']]).round()\n",
    "dfm[['Середній дохід населення']] = imputer_mean.fit_transform(dfm[['Середній дохід населення']]).round()"
   ]
  },
  {
   "cell_type": "code",
   "execution_count": 9,
   "id": "b56e11d8",
   "metadata": {},
   "outputs": [
    {
     "data": {
      "text/html": [
       "<div>\n",
       "<style scoped>\n",
       "    .dataframe tbody tr th:only-of-type {\n",
       "        vertical-align: middle;\n",
       "    }\n",
       "\n",
       "    .dataframe tbody tr th {\n",
       "        vertical-align: top;\n",
       "    }\n",
       "\n",
       "    .dataframe thead th {\n",
       "        text-align: right;\n",
       "    }\n",
       "</style>\n",
       "<table border=\"1\" class=\"dataframe\">\n",
       "  <thead>\n",
       "    <tr style=\"text-align: right;\">\n",
       "      <th></th>\n",
       "      <th>Людинопотік</th>\n",
       "      <th>Середній дохід населення</th>\n",
       "      <th>Школа</th>\n",
       "      <th>Продуктовий ринок</th>\n",
       "      <th>Речовий ринок</th>\n",
       "      <th>Транзитна зупинка міжміського ГТ</th>\n",
       "      <th>Зупинка ГТ з дому</th>\n",
       "    </tr>\n",
       "  </thead>\n",
       "  <tbody>\n",
       "    <tr>\n",
       "      <th>count</th>\n",
       "      <td>69.000000</td>\n",
       "      <td>69.000000</td>\n",
       "      <td>69.000000</td>\n",
       "      <td>69.000000</td>\n",
       "      <td>69.000000</td>\n",
       "      <td>69.000000</td>\n",
       "      <td>69.000000</td>\n",
       "    </tr>\n",
       "    <tr>\n",
       "      <th>mean</th>\n",
       "      <td>2755.782609</td>\n",
       "      <td>11990.391304</td>\n",
       "      <td>0.072464</td>\n",
       "      <td>0.115942</td>\n",
       "      <td>0.086957</td>\n",
       "      <td>0.072464</td>\n",
       "      <td>0.246377</td>\n",
       "    </tr>\n",
       "    <tr>\n",
       "      <th>std</th>\n",
       "      <td>1981.850301</td>\n",
       "      <td>2474.008472</td>\n",
       "      <td>0.261154</td>\n",
       "      <td>0.322501</td>\n",
       "      <td>0.283836</td>\n",
       "      <td>0.261154</td>\n",
       "      <td>0.434057</td>\n",
       "    </tr>\n",
       "    <tr>\n",
       "      <th>min</th>\n",
       "      <td>233.000000</td>\n",
       "      <td>0.000000</td>\n",
       "      <td>0.000000</td>\n",
       "      <td>0.000000</td>\n",
       "      <td>0.000000</td>\n",
       "      <td>0.000000</td>\n",
       "      <td>0.000000</td>\n",
       "    </tr>\n",
       "    <tr>\n",
       "      <th>25%</th>\n",
       "      <td>1296.000000</td>\n",
       "      <td>11060.000000</td>\n",
       "      <td>0.000000</td>\n",
       "      <td>0.000000</td>\n",
       "      <td>0.000000</td>\n",
       "      <td>0.000000</td>\n",
       "      <td>0.000000</td>\n",
       "    </tr>\n",
       "    <tr>\n",
       "      <th>50%</th>\n",
       "      <td>2269.000000</td>\n",
       "      <td>12180.000000</td>\n",
       "      <td>0.000000</td>\n",
       "      <td>0.000000</td>\n",
       "      <td>0.000000</td>\n",
       "      <td>0.000000</td>\n",
       "      <td>0.000000</td>\n",
       "    </tr>\n",
       "    <tr>\n",
       "      <th>75%</th>\n",
       "      <td>3880.000000</td>\n",
       "      <td>13300.000000</td>\n",
       "      <td>0.000000</td>\n",
       "      <td>0.000000</td>\n",
       "      <td>0.000000</td>\n",
       "      <td>0.000000</td>\n",
       "      <td>0.000000</td>\n",
       "    </tr>\n",
       "    <tr>\n",
       "      <th>max</th>\n",
       "      <td>10016.000000</td>\n",
       "      <td>16100.000000</td>\n",
       "      <td>1.000000</td>\n",
       "      <td>1.000000</td>\n",
       "      <td>1.000000</td>\n",
       "      <td>1.000000</td>\n",
       "      <td>1.000000</td>\n",
       "    </tr>\n",
       "  </tbody>\n",
       "</table>\n",
       "</div>"
      ],
      "text/plain": [
       "        Людинопотік  Середній дохід населення      Школа  Продуктовий ринок  \\\n",
       "count     69.000000                 69.000000  69.000000          69.000000   \n",
       "mean    2755.782609              11990.391304   0.072464           0.115942   \n",
       "std     1981.850301               2474.008472   0.261154           0.322501   \n",
       "min      233.000000                  0.000000   0.000000           0.000000   \n",
       "25%     1296.000000              11060.000000   0.000000           0.000000   \n",
       "50%     2269.000000              12180.000000   0.000000           0.000000   \n",
       "75%     3880.000000              13300.000000   0.000000           0.000000   \n",
       "max    10016.000000              16100.000000   1.000000           1.000000   \n",
       "\n",
       "       Речовий ринок  Транзитна зупинка міжміського ГТ  Зупинка ГТ з дому  \n",
       "count      69.000000                         69.000000          69.000000  \n",
       "mean        0.086957                          0.072464           0.246377  \n",
       "std         0.283836                          0.261154           0.434057  \n",
       "min         0.000000                          0.000000           0.000000  \n",
       "25%         0.000000                          0.000000           0.000000  \n",
       "50%         0.000000                          0.000000           0.000000  \n",
       "75%         0.000000                          0.000000           0.000000  \n",
       "max         1.000000                          1.000000           1.000000  "
      ]
     },
     "execution_count": 9,
     "metadata": {},
     "output_type": "execute_result"
    }
   ],
   "source": [
    "dfm.describe()"
   ]
  },
  {
   "cell_type": "code",
   "execution_count": 10,
   "id": "b25dbbe2",
   "metadata": {},
   "outputs": [
    {
     "data": {
      "text/html": [
       "<div>\n",
       "<style scoped>\n",
       "    .dataframe tbody tr th:only-of-type {\n",
       "        vertical-align: middle;\n",
       "    }\n",
       "\n",
       "    .dataframe tbody tr th {\n",
       "        vertical-align: top;\n",
       "    }\n",
       "\n",
       "    .dataframe thead th {\n",
       "        text-align: right;\n",
       "    }\n",
       "</style>\n",
       "<table border=\"1\" class=\"dataframe\">\n",
       "  <thead>\n",
       "    <tr style=\"text-align: right;\">\n",
       "      <th></th>\n",
       "      <th>Людинопотік</th>\n",
       "      <th>Середній дохід населення</th>\n",
       "      <th>Школа</th>\n",
       "      <th>Продуктовий ринок</th>\n",
       "      <th>Речовий ринок</th>\n",
       "      <th>Транзитна зупинка міжміського ГТ</th>\n",
       "      <th>Зупинка ГТ з дому</th>\n",
       "    </tr>\n",
       "  </thead>\n",
       "  <tbody>\n",
       "    <tr>\n",
       "      <th>Людинопотік</th>\n",
       "      <td>1.000000</td>\n",
       "      <td>0.244975</td>\n",
       "      <td>-0.117771</td>\n",
       "      <td>0.087680</td>\n",
       "      <td>0.000531</td>\n",
       "      <td>0.018102</td>\n",
       "      <td>0.042476</td>\n",
       "    </tr>\n",
       "    <tr>\n",
       "      <th>Середній дохід населення</th>\n",
       "      <td>0.244975</td>\n",
       "      <td>1.000000</td>\n",
       "      <td>0.015205</td>\n",
       "      <td>-0.273949</td>\n",
       "      <td>-0.034813</td>\n",
       "      <td>0.000866</td>\n",
       "      <td>-0.025837</td>\n",
       "    </tr>\n",
       "    <tr>\n",
       "      <th>Школа</th>\n",
       "      <td>-0.117771</td>\n",
       "      <td>0.015205</td>\n",
       "      <td>1.000000</td>\n",
       "      <td>0.073386</td>\n",
       "      <td>-0.086258</td>\n",
       "      <td>-0.078125</td>\n",
       "      <td>-0.030083</td>\n",
       "    </tr>\n",
       "    <tr>\n",
       "      <th>Продуктовий ринок</th>\n",
       "      <td>0.087680</td>\n",
       "      <td>-0.273949</td>\n",
       "      <td>0.073386</td>\n",
       "      <td>1.000000</td>\n",
       "      <td>0.370204</td>\n",
       "      <td>-0.101222</td>\n",
       "      <td>0.213153</td>\n",
       "    </tr>\n",
       "    <tr>\n",
       "      <th>Речовий ринок</th>\n",
       "      <td>0.000531</td>\n",
       "      <td>-0.034813</td>\n",
       "      <td>-0.086258</td>\n",
       "      <td>0.370204</td>\n",
       "      <td>1.000000</td>\n",
       "      <td>0.112136</td>\n",
       "      <td>0.301007</td>\n",
       "    </tr>\n",
       "    <tr>\n",
       "      <th>Транзитна зупинка міжміського ГТ</th>\n",
       "      <td>0.018102</td>\n",
       "      <td>0.000866</td>\n",
       "      <td>-0.078125</td>\n",
       "      <td>-0.101222</td>\n",
       "      <td>0.112136</td>\n",
       "      <td>1.000000</td>\n",
       "      <td>0.099649</td>\n",
       "    </tr>\n",
       "    <tr>\n",
       "      <th>Зупинка ГТ з дому</th>\n",
       "      <td>0.042476</td>\n",
       "      <td>-0.025837</td>\n",
       "      <td>-0.030083</td>\n",
       "      <td>0.213153</td>\n",
       "      <td>0.301007</td>\n",
       "      <td>0.099649</td>\n",
       "      <td>1.000000</td>\n",
       "    </tr>\n",
       "  </tbody>\n",
       "</table>\n",
       "</div>"
      ],
      "text/plain": [
       "                                  Людинопотік  Середній дохід населення  \\\n",
       "Людинопотік                          1.000000                  0.244975   \n",
       "Середній дохід населення             0.244975                  1.000000   \n",
       "Школа                               -0.117771                  0.015205   \n",
       "Продуктовий ринок                    0.087680                 -0.273949   \n",
       "Речовий ринок                        0.000531                 -0.034813   \n",
       "Транзитна зупинка міжміського ГТ     0.018102                  0.000866   \n",
       "Зупинка ГТ з дому                    0.042476                 -0.025837   \n",
       "\n",
       "                                     Школа  Продуктовий ринок  Речовий ринок  \\\n",
       "Людинопотік                      -0.117771           0.087680       0.000531   \n",
       "Середній дохід населення          0.015205          -0.273949      -0.034813   \n",
       "Школа                             1.000000           0.073386      -0.086258   \n",
       "Продуктовий ринок                 0.073386           1.000000       0.370204   \n",
       "Речовий ринок                    -0.086258           0.370204       1.000000   \n",
       "Транзитна зупинка міжміського ГТ -0.078125          -0.101222       0.112136   \n",
       "Зупинка ГТ з дому                -0.030083           0.213153       0.301007   \n",
       "\n",
       "                                  Транзитна зупинка міжміського ГТ  \\\n",
       "Людинопотік                                               0.018102   \n",
       "Середній дохід населення                                  0.000866   \n",
       "Школа                                                    -0.078125   \n",
       "Продуктовий ринок                                        -0.101222   \n",
       "Речовий ринок                                             0.112136   \n",
       "Транзитна зупинка міжміського ГТ                          1.000000   \n",
       "Зупинка ГТ з дому                                         0.099649   \n",
       "\n",
       "                                  Зупинка ГТ з дому  \n",
       "Людинопотік                                0.042476  \n",
       "Середній дохід населення                  -0.025837  \n",
       "Школа                                     -0.030083  \n",
       "Продуктовий ринок                          0.213153  \n",
       "Речовий ринок                              0.301007  \n",
       "Транзитна зупинка міжміського ГТ           0.099649  \n",
       "Зупинка ГТ з дому                          1.000000  "
      ]
     },
     "execution_count": 10,
     "metadata": {},
     "output_type": "execute_result"
    }
   ],
   "source": [
    "dfm.corr()"
   ]
  },
  {
   "cell_type": "code",
   "execution_count": 11,
   "id": "1be006f8",
   "metadata": {},
   "outputs": [
    {
     "data": {
      "image/png": "[encoded data removed]",
      "text/plain": [
       "<Figure size 864x648 with 2 Axes>"
      ]
     },
     "metadata": {
      "needs_background": "light"
     },
     "output_type": "display_data"
    }
   ],
   "source": [
    "corrmat = dfm.corr()\n",
    "f, ax = plt.subplots(figsize=(12, 9))\n",
    "sns.heatmap(corrmat, annot=True)\n",
    "plt.show()"
   ]
  },
  {
   "cell_type": "code",
   "execution_count": 13,
   "id": "77cdf4d6",
   "metadata": {},
   "outputs": [
    {
     "data": {
      "text/html": [
       "<div>\n",
       "<style scoped>\n",
       "    .dataframe tbody tr th:only-of-type {\n",
       "        vertical-align: middle;\n",
       "    }\n",
       "\n",
       "    .dataframe tbody tr th {\n",
       "        vertical-align: top;\n",
       "    }\n",
       "\n",
       "    .dataframe thead th {\n",
       "        text-align: right;\n",
       "    }\n",
       "</style>\n",
       "<table border=\"1\" class=\"dataframe\">\n",
       "  <thead>\n",
       "    <tr style=\"text-align: right;\">\n",
       "      <th></th>\n",
       "      <th>col</th>\n",
       "      <th>nunique</th>\n",
       "      <th>unique</th>\n",
       "      <th>type</th>\n",
       "    </tr>\n",
       "  </thead>\n",
       "  <tbody>\n",
       "    <tr>\n",
       "      <th>0</th>\n",
       "      <td>Людинопотік</td>\n",
       "      <td>65</td>\n",
       "      <td>[5211.0, 2424.0, 3868.0, 4546.0, 3244.0, 2560....</td>\n",
       "      <td>float64</td>\n",
       "    </tr>\n",
       "  </tbody>\n",
       "</table>\n",
       "</div>"
      ],
      "text/plain": [
       "           col  nunique                                             unique  \\\n",
       "0  Людинопотік       65  [5211.0, 2424.0, 3868.0, 4546.0, 3244.0, 2560....   \n",
       "\n",
       "      type  \n",
       "0  float64  "
      ]
     },
     "execution_count": 13,
     "metadata": {},
     "output_type": "execute_result"
    }
   ],
   "source": [
    "#encoding\n",
    "dfs = dfm[['Людинопотік']]\n",
    "info = []\n",
    "for column in dfs.columns:\n",
    "        vals = {\"col\": column,\n",
    "                \"nunique\": dfs[column].nunique(),\n",
    "                \"unique\": dfs[column].unique(),\n",
    "                \"type\": dfs[column].dtype\n",
    "               }\n",
    "        info.append(vals)\n",
    "pd.DataFrame(info).sort_values(by = \"col\", ascending = False)"
   ]
  },
  {
   "cell_type": "code",
   "execution_count": 15,
   "id": "52489a89",
   "metadata": {},
   "outputs": [
    {
     "data": {
      "image/png": "[encoded data removed]",
      "text/plain": [
       "<Figure size 864x648 with 2 Axes>"
      ]
     },
     "metadata": {
      "needs_background": "light"
     },
     "output_type": "display_data"
    }
   ],
   "source": [
    "corrmat = dfm.corr()\n",
    "f, ax = plt.subplots(figsize=(12, 9))\n",
    "sns.heatmap(corrmat[['Людинопотік',]], annot=True)\n",
    "plt.show()"
   ]
  },
  {
   "cell_type": "code",
   "execution_count": 16,
   "id": "0506d525",
   "metadata": {},
   "outputs": [
    {
     "data": {
      "text/plain": [
       "<seaborn.axisgrid.PairGrid at 0x1ccdfdca490>"
      ]
     },
     "execution_count": 16,
     "metadata": {},
     "output_type": "execute_result"
    },
    {
     "data": {
      "image/png": "[encoded data removed]",
      "text/plain": [
       "<Figure size 1260x1260 with 56 Axes>"
      ]
     },
     "metadata": {
      "needs_background": "light"
     },
     "output_type": "display_data"
    }
   ],
   "source": [
    "sns.pairplot(dfm)"
   ]
  },
  {
   "cell_type": "code",
   "execution_count": 17,
   "id": "1bc0883a",
   "metadata": {},
   "outputs": [],
   "source": [
    "#linear regression\n",
    "#Splitting the dataset into the Training set and Test set\n",
    "feature_name = ['Людинопотік','Школа','Продуктовий ринок','Речовий ринок']\n",
    "X =dfm[feature_name]\n",
    "y = dfm['Середній дохід населення']\n",
    "X_train, X_test, y_train, y_test = train_test_split(X, y, test_size=0.2, random_state=10)"
   ]
  },
  {
   "cell_type": "code",
   "execution_count": 18,
   "id": "427a08ff",
   "metadata": {},
   "outputs": [
    {
     "data": {
      "text/plain": [
       "(array([0.26182571]), 11194.692802678257)"
      ]
     },
     "execution_count": 18,
     "metadata": {},
     "output_type": "execute_result"
    }
   ],
   "source": [
    "# Fitting Simple Linear Regression to the Training set\n",
    "f1 = ['Людинопотік']\n",
    "\n",
    "from sklearn.linear_model import LinearRegression\n",
    "sr = LinearRegression().fit(X_train[f1], y_train)\n",
    "\n",
    "# Getting parameters\n",
    "sr.coef_, sr.intercept_"
   ]
  },
  {
   "cell_type": "code",
   "execution_count": 19,
   "id": "60ad4ba3",
   "metadata": {},
   "outputs": [
    {
     "data": {
      "text/plain": [
       "(0.046, 0.113)"
      ]
     },
     "execution_count": 19,
     "metadata": {},
     "output_type": "execute_result"
    }
   ],
   "source": [
    "# Predicting the Test set results\n",
    "y_pred = sr.predict(X_test[f1])\n",
    "\n",
    "# Coefficient of determination R^2\n",
    "sr.score(X_train[f1], y_train).round(3), sr.score(X_test[f1], y_test).round(3)"
   ]
  },
  {
   "cell_type": "code",
   "execution_count": 20,
   "id": "5a877c2d",
   "metadata": {},
   "outputs": [
    {
     "name": "stdout",
     "output_type": "stream",
     "text": [
      "2482.31\n"
     ]
    },
    {
     "data": {
      "text/plain": [
       "1949.82"
      ]
     },
     "execution_count": 20,
     "metadata": {},
     "output_type": "execute_result"
    }
   ],
   "source": [
    "print(mean_squared_error(y_train, sr.predict(X_train[f1]), squared=False).round(2))\n",
    "mean_squared_error(y_test, y_pred, squared=False).round(2)"
   ]
  },
  {
   "cell_type": "code",
   "execution_count": 21,
   "id": "8f2dcc4f",
   "metadata": {},
   "outputs": [
    {
     "data": {
      "text/plain": [
       "(array([ 3.24040777e-01,  7.91557879e+02, -2.48142293e+03,  1.66966430e+02]),\n",
       " 11204.364938432747)"
      ]
     },
     "execution_count": 21,
     "metadata": {},
     "output_type": "execute_result"
    }
   ],
   "source": [
    "from sklearn.linear_model import LinearRegression\n",
    "mr = LinearRegression().fit(X_train, y_train)\n",
    "\n",
    "# Getting parameters\n",
    "mr.coef_, mr.intercept_"
   ]
  },
  {
   "cell_type": "code",
   "execution_count": 22,
   "id": "5c07830e",
   "metadata": {},
   "outputs": [
    {
     "data": {
      "text/plain": [
       "(0.133, 0.255)"
      ]
     },
     "execution_count": 22,
     "metadata": {},
     "output_type": "execute_result"
    }
   ],
   "source": [
    "# Predicting the Test set results\n",
    "y_pred2 = mr.predict(X_test)\n",
    "\n",
    "# Coefficient of determination R^2\n",
    "mr.score(X_train, y_train).round(3), mr.score(X_test, y_test).round(3)"
   ]
  },
  {
   "cell_type": "code",
   "execution_count": 23,
   "id": "a5516a67",
   "metadata": {},
   "outputs": [
    {
     "name": "stdout",
     "output_type": "stream",
     "text": [
      "2365.92\n"
     ]
    },
    {
     "data": {
      "text/plain": [
       "1786.54"
      ]
     },
     "execution_count": 23,
     "metadata": {},
     "output_type": "execute_result"
    }
   ],
   "source": [
    "print(mean_squared_error(y_train, mr.predict(X_train), squared=False).round(2))\n",
    "mean_squared_error(y_test, y_pred2, squared=False).round(2)"
   ]
  },
  {
   "cell_type": "code",
   "execution_count": 24,
   "id": "4284edea",
   "metadata": {},
   "outputs": [
    {
     "data": {
      "text/plain": [
       "const                2.796665e-24\n",
       "Людинопотік          5.523090e-02\n",
       "Школа                5.127908e-01\n",
       "Продуктовий ринок    5.656650e-02\n",
       "Речовий ринок        9.031747e-01\n",
       "dtype: float64"
      ]
     },
     "execution_count": 24,
     "metadata": {},
     "output_type": "execute_result"
    }
   ],
   "source": [
    "# Checking p-values\n",
    "X1 = sm.add_constant(X_train)\n",
    "mr1 = sm.OLS(y_train, X1).fit()\n",
    "mr1.pvalues"
   ]
  },
  {
   "cell_type": "code",
   "execution_count": 25,
   "id": "bc106469",
   "metadata": {},
   "outputs": [
    {
     "data": {
      "text/html": [
       "<table class=\"simpletable\">\n",
       "<caption>OLS Regression Results</caption>\n",
       "<tr>\n",
       "  <th>Dep. Variable:</th>    <td>Середній дохід населення</td> <th>  R-squared:         </th> <td>   0.133</td>\n",
       "</tr>\n",
       "<tr>\n",
       "  <th>Model:</th>                       <td>OLS</td>           <th>  Adj. R-squared:    </th> <td>   0.064</td>\n",
       "</tr>\n",
       "<tr>\n",
       "  <th>Method:</th>                 <td>Least Squares</td>      <th>  F-statistic:       </th> <td>   1.917</td>\n",
       "</tr>\n",
       "<tr>\n",
       "  <th>Date:</th>                 <td>Tue, 28 Dec 2021</td>     <th>  Prob (F-statistic):</th>  <td> 0.122</td> \n",
       "</tr>\n",
       "<tr>\n",
       "  <th>Time:</th>                     <td>01:17:01</td>         <th>  Log-Likelihood:    </th> <td> -505.33</td>\n",
       "</tr>\n",
       "<tr>\n",
       "  <th>No. Observations:</th>          <td>    55</td>          <th>  AIC:               </th> <td>   1021.</td>\n",
       "</tr>\n",
       "<tr>\n",
       "  <th>Df Residuals:</th>              <td>    50</td>          <th>  BIC:               </th> <td>   1031.</td>\n",
       "</tr>\n",
       "<tr>\n",
       "  <th>Df Model:</th>                  <td>     4</td>          <th>                     </th>     <td> </td>   \n",
       "</tr>\n",
       "<tr>\n",
       "  <th>Covariance Type:</th>          <td>nonrobust</td>        <th>                     </th>     <td> </td>   \n",
       "</tr>\n",
       "</table>\n",
       "<table class=\"simpletable\">\n",
       "<tr>\n",
       "          <td></td>             <th>coef</th>     <th>std err</th>      <th>t</th>      <th>P>|t|</th>  <th>[0.025</th>    <th>0.975]</th>  \n",
       "</tr>\n",
       "<tr>\n",
       "  <th>const</th>             <td>  1.12e+04</td> <td>  597.198</td> <td>   18.762</td> <td> 0.000</td> <td>    1e+04</td> <td> 1.24e+04</td>\n",
       "</tr>\n",
       "<tr>\n",
       "  <th>Людинопотік</th>       <td>    0.3240</td> <td>    0.165</td> <td>    1.963</td> <td> 0.055</td> <td>   -0.008</td> <td>    0.656</td>\n",
       "</tr>\n",
       "<tr>\n",
       "  <th>Школа</th>             <td>  791.5579</td> <td> 1200.782</td> <td>    0.659</td> <td> 0.513</td> <td>-1620.284</td> <td> 3203.400</td>\n",
       "</tr>\n",
       "<tr>\n",
       "  <th>Продуктовий ринок</th> <td>-2481.4229</td> <td> 1271.310</td> <td>   -1.952</td> <td> 0.057</td> <td>-5034.924</td> <td>   72.078</td>\n",
       "</tr>\n",
       "<tr>\n",
       "  <th>Речовий ринок</th>     <td>  166.9664</td> <td> 1365.547</td> <td>    0.122</td> <td> 0.903</td> <td>-2575.815</td> <td> 2909.748</td>\n",
       "</tr>\n",
       "</table>\n",
       "<table class=\"simpletable\">\n",
       "<tr>\n",
       "  <th>Omnibus:</th>       <td>42.211</td> <th>  Durbin-Watson:     </th> <td>   1.686</td>\n",
       "</tr>\n",
       "<tr>\n",
       "  <th>Prob(Omnibus):</th> <td> 0.000</td> <th>  Jarque-Bera (JB):  </th> <td> 181.568</td>\n",
       "</tr>\n",
       "<tr>\n",
       "  <th>Skew:</th>          <td>-1.991</td> <th>  Prob(JB):          </th> <td>3.74e-40</td>\n",
       "</tr>\n",
       "<tr>\n",
       "  <th>Kurtosis:</th>      <td>10.960</td> <th>  Cond. No.          </th> <td>1.73e+04</td>\n",
       "</tr>\n",
       "</table><br/><br/>Notes:<br/>[1] Standard Errors assume that the covariance matrix of the errors is correctly specified.<br/>[2] The condition number is large, 1.73e+04. This might indicate that there are<br/>strong multicollinearity or other numerical problems."
      ],
      "text/plain": [
       "<class 'statsmodels.iolib.summary.Summary'>\n",
       "\"\"\"\n",
       "                               OLS Regression Results                               \n",
       "====================================================================================\n",
       "Dep. Variable:     Середній дохід населення   R-squared:                       0.133\n",
       "Model:                                  OLS   Adj. R-squared:                  0.064\n",
       "Method:                       Least Squares   F-statistic:                     1.917\n",
       "Date:                      Tue, 28 Dec 2021   Prob (F-statistic):              0.122\n",
       "Time:                              01:17:01   Log-Likelihood:                -505.33\n",
       "No. Observations:                        55   AIC:                             1021.\n",
       "Df Residuals:                            50   BIC:                             1031.\n",
       "Df Model:                                 4                                         \n",
       "Covariance Type:                  nonrobust                                         \n",
       "=====================================================================================\n",
       "                        coef    std err          t      P>|t|      [0.025      0.975]\n",
       "-------------------------------------------------------------------------------------\n",
       "const               1.12e+04    597.198     18.762      0.000       1e+04    1.24e+04\n",
       "Людинопотік           0.3240      0.165      1.963      0.055      -0.008       0.656\n",
       "Школа               791.5579   1200.782      0.659      0.513   -1620.284    3203.400\n",
       "Продуктовий ринок -2481.4229   1271.310     -1.952      0.057   -5034.924      72.078\n",
       "Речовий ринок       166.9664   1365.547      0.122      0.903   -2575.815    2909.748\n",
       "==============================================================================\n",
       "Omnibus:                       42.211   Durbin-Watson:                   1.686\n",
       "Prob(Omnibus):                  0.000   Jarque-Bera (JB):              181.568\n",
       "Skew:                          -1.991   Prob(JB):                     3.74e-40\n",
       "Kurtosis:                      10.960   Cond. No.                     1.73e+04\n",
       "==============================================================================\n",
       "\n",
       "Notes:\n",
       "[1] Standard Errors assume that the covariance matrix of the errors is correctly specified.\n",
       "[2] The condition number is large, 1.73e+04. This might indicate that there are\n",
       "strong multicollinearity or other numerical problems.\n",
       "\"\"\""
      ]
     },
     "execution_count": 25,
     "metadata": {},
     "output_type": "execute_result"
    }
   ],
   "source": [
    "mr1.summary()"
   ]
  },
  {
   "cell_type": "code",
   "execution_count": 26,
   "id": "8dd390cb",
   "metadata": {},
   "outputs": [
    {
     "data": {
      "text/plain": [
       "(array([ 3.24040777e-01,  7.91557879e+02, -2.48142293e+03,  1.66966430e+02]),\n",
       " 11204.364938432747)"
      ]
     },
     "execution_count": 26,
     "metadata": {},
     "output_type": "execute_result"
    }
   ],
   "source": [
    "# Fitting Polynomial Regression to the dataset\n",
    "X_train_p = PolynomialFeatures().fit_transform(X_train)\n",
    "X_test_p = PolynomialFeatures().fit_transform(X_test)\n",
    "\n",
    "pr = LinearRegression().fit(X_train, y_train)\n",
    "\n",
    "# Getting parameters\n",
    "pr.coef_, pr.intercept_"
   ]
  },
  {
   "cell_type": "code",
   "execution_count": 27,
   "id": "a12c9482",
   "metadata": {},
   "outputs": [
    {
     "data": {
      "text/plain": [
       "(0.133, 0.255)"
      ]
     },
     "execution_count": 27,
     "metadata": {},
     "output_type": "execute_result"
    }
   ],
   "source": [
    "# Predicting the Test set results\n",
    "y_pred = pr.predict(X_test)\n",
    "\n",
    "# Coefficient of determination R^2\n",
    "pr.score(X_train, y_train).round(3), pr.score(X_test, y_test).round(3)"
   ]
  },
  {
   "cell_type": "code",
   "execution_count": 28,
   "id": "77cb7e0f",
   "metadata": {},
   "outputs": [
    {
     "name": "stdout",
     "output_type": "stream",
     "text": [
      "2365.92\n"
     ]
    },
    {
     "data": {
      "text/plain": [
       "1786.54"
      ]
     },
     "execution_count": 28,
     "metadata": {},
     "output_type": "execute_result"
    }
   ],
   "source": [
    "# Mean squared error\n",
    "print(mean_squared_error(y_train, pr.predict(X_train), squared=False).round(2))\n",
    "mean_squared_error(y_test, y_pred, squared=False).round(2)"
   ]
  },
  {
   "cell_type": "code",
   "execution_count": 29,
   "id": "f68fc728",
   "metadata": {},
   "outputs": [
    {
     "data": {
      "text/html": [
       "<div>\n",
       "<style scoped>\n",
       "    .dataframe tbody tr th:only-of-type {\n",
       "        vertical-align: middle;\n",
       "    }\n",
       "\n",
       "    .dataframe tbody tr th {\n",
       "        vertical-align: top;\n",
       "    }\n",
       "\n",
       "    .dataframe thead th {\n",
       "        text-align: right;\n",
       "    }\n",
       "</style>\n",
       "<table border=\"1\" class=\"dataframe\">\n",
       "  <thead>\n",
       "    <tr style=\"text-align: right;\">\n",
       "      <th></th>\n",
       "      <th>RMSE</th>\n",
       "      <th>R2</th>\n",
       "    </tr>\n",
       "  </thead>\n",
       "  <tbody>\n",
       "    <tr>\n",
       "      <th>Train</th>\n",
       "      <td>1910.19</td>\n",
       "      <td>0.43</td>\n",
       "    </tr>\n",
       "    <tr>\n",
       "      <th>Test</th>\n",
       "      <td>1933.52</td>\n",
       "      <td>0.13</td>\n",
       "    </tr>\n",
       "  </tbody>\n",
       "</table>\n",
       "</div>"
      ],
      "text/plain": [
       "          RMSE    R2\n",
       "Train  1910.19  0.43\n",
       "Test   1933.52  0.13"
      ]
     },
     "execution_count": 29,
     "metadata": {},
     "output_type": "execute_result"
    }
   ],
   "source": [
    "# Fitting Random Forest to the Training set\n",
    "rf = RandomForestRegressor(n_estimators = 2, max_leaf_nodes = 25, random_state = 10).fit(X_train, y_train)\n",
    "\n",
    "# Predicting the Test set results\n",
    "rf_y_pred = rf.predict(X_test)\n",
    "\n",
    "# Metrics\n",
    "metrics(X_train, X_test, y_train, y_test, rf_y_pred, rf).round(2)"
   ]
  },
  {
   "cell_type": "code",
   "execution_count": 30,
   "id": "02e34d64",
   "metadata": {},
   "outputs": [
    {
     "name": "stdout",
     "output_type": "stream",
     "text": [
      "Variable: Людинопотік          Importance: 0.83\n",
      "Variable: Продуктовий ринок    Importance: 0.17\n",
      "Variable: Школа                Importance: 0.0\n",
      "Variable: Речовий ринок        Importance: 0.0\n"
     ]
    }
   ],
   "source": [
    "# Get numerical feature importances\n",
    "importances = list(rf.feature_importances_)\n",
    "# List of tuples with variable and importance\n",
    "feature_importances = [(feature_, round(importance, 2)) for feature_, importance in zip(feature_name, importances)]\n",
    "# Sort the feature importances by most important first\n",
    "feature_importances = sorted(feature_importances, key = lambda x: x[1], reverse = True)\n",
    "# Print out the feature and importances \n",
    "[print('Variable: {:20} Importance: {}'.format(*pair)) for pair in feature_importances];"
   ]
  },
  {
   "cell_type": "code",
   "execution_count": 34,
   "id": "f8536bdf",
   "metadata": {},
   "outputs": [],
   "source": [
    "#Выводы: Мы видим что все модели имеют плохие показатели R2.\n",
    "    #Исходя из R2 лучшей моделью будет Random Forest."
   ]
  },
  {
   "cell_type": "code",
   "execution_count": null,
   "id": "56c4f547",
   "metadata": {},
   "outputs": [],
   "source": []
  }
 ],
 "metadata": {
  "kernelspec": {
   "display_name": "Python 3",
   "language": "python",
   "name": "python3"
  },
  "language_info": {
   "codemirror_mode": {
    "name": "ipython",
    "version": 3
   },
   "file_extension": ".py",
   "mimetype": "text/x-python",
   "name": "python",
   "nbconvert_exporter": "python",
   "pygments_lexer": "ipython3",
   "version": "3.8.8"
  }
 },
 "nbformat": 4,
 "nbformat_minor": 5
}
